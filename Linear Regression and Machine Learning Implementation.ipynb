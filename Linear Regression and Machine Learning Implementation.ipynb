{
 "cells": [
  {
   "cell_type": "markdown",
   "id": "c4751b5a",
   "metadata": {},
   "source": [
    "# Simple Linear Regression and ML implementation"
   ]
  },
  {
   "cell_type": "markdown",
   "id": "b64be08c",
   "metadata": {},
   "source": [
    "By Andan M\n",
    "1. GitHub: https://github.com/andanm \n",
    "2. LinkedIn: https://www.linkedin.com/in/andan-m-854bb824a/"
   ]
  },
  {
   "cell_type": "code",
   "execution_count": null,
   "id": "8b574c34",
   "metadata": {},
   "outputs": [],
   "source": [
    "import pandas as pd\n",
    "import numpy as np\n",
    "import seaborn as sns\n",
    "import matplotlib.pyplot as plt\n",
    "%matplotlib inline\n",
    "\n",
    "import warnings\n",
    "warnings.filterwarnings(\"ignore\")"
   ]
  },
  {
   "cell_type": "code",
   "execution_count": null,
   "id": "ef15dcab",
   "metadata": {},
   "outputs": [],
   "source": [
    "from sklearn.datasets import load_boston"
   ]
  },
  {
   "cell_type": "code",
   "execution_count": null,
   "id": "841b08bb",
   "metadata": {},
   "outputs": [],
   "source": [
    "boston=load_boston()"
   ]
  },
  {
   "cell_type": "code",
   "execution_count": null,
   "id": "23f50f08",
   "metadata": {},
   "outputs": [],
   "source": [
    "print(boston)"
   ]
  },
  {
   "cell_type": "code",
   "execution_count": null,
   "id": "7b6aab07",
   "metadata": {},
   "outputs": [],
   "source": [
    "boston.keys()"
   ]
  },
  {
   "cell_type": "code",
   "execution_count": null,
   "id": "92d9c489",
   "metadata": {},
   "outputs": [],
   "source": [
    "print(boston.DESCR)"
   ]
  },
  {
   "cell_type": "code",
   "execution_count": null,
   "id": "5325e86c",
   "metadata": {},
   "outputs": [],
   "source": [
    "print(boston.data)"
   ]
  },
  {
   "cell_type": "code",
   "execution_count": null,
   "id": "e027b5e9",
   "metadata": {},
   "outputs": [],
   "source": [
    "print(boston.target)"
   ]
  },
  {
   "cell_type": "code",
   "execution_count": null,
   "id": "0004aa5c",
   "metadata": {},
   "outputs": [],
   "source": [
    "print(boston.feature_names)"
   ]
  },
  {
   "cell_type": "code",
   "execution_count": null,
   "id": "7784a377",
   "metadata": {},
   "outputs": [],
   "source": [
    "#Lets prepare the dataframe\n",
    "df=pd.DataFrame(boston.data,columns=boston.feature_names)"
   ]
  },
  {
   "cell_type": "code",
   "execution_count": null,
   "id": "977bfd28",
   "metadata": {},
   "outputs": [],
   "source": [
    "df.head()"
   ]
  },
  {
   "cell_type": "code",
   "execution_count": null,
   "id": "1428acea",
   "metadata": {},
   "outputs": [],
   "source": [
    "df[\"Price\"]=boston.target"
   ]
  },
  {
   "cell_type": "code",
   "execution_count": null,
   "id": "cf93653d",
   "metadata": {},
   "outputs": [],
   "source": [
    "df.head()"
   ]
  },
  {
   "cell_type": "code",
   "execution_count": null,
   "id": "d9377b90",
   "metadata": {},
   "outputs": [],
   "source": [
    "#Checking the Info of dataset\n",
    "df.info()"
   ]
  },
  {
   "cell_type": "code",
   "execution_count": null,
   "id": "d442cc21",
   "metadata": {},
   "outputs": [],
   "source": [
    "df.describe()"
   ]
  },
  {
   "cell_type": "code",
   "execution_count": null,
   "id": "a59d2574",
   "metadata": {},
   "outputs": [],
   "source": [
    "##Checking for missing values\n",
    "df.isnull().sum()"
   ]
  },
  {
   "cell_type": "markdown",
   "id": "a786d36e",
   "metadata": {},
   "source": [
    "Observation: There are no null values in the given dataset"
   ]
  },
  {
   "cell_type": "code",
   "execution_count": null,
   "id": "85d656f8",
   "metadata": {},
   "outputs": [],
   "source": [
    "##EDA\n",
    "df.corr()"
   ]
  },
  {
   "cell_type": "code",
   "execution_count": null,
   "id": "fac24897",
   "metadata": {},
   "outputs": [],
   "source": [
    "sns.pairplot(df)"
   ]
  },
  {
   "cell_type": "code",
   "execution_count": null,
   "id": "d2bf09c7",
   "metadata": {},
   "outputs": [],
   "source": [
    "sns.set(rc={'figure.figsize':(10,5)})\n",
    "sns.heatmap(df.corr(), annot=True)"
   ]
  },
  {
   "cell_type": "code",
   "execution_count": null,
   "id": "1cecf4e6",
   "metadata": {},
   "outputs": [],
   "source": [
    "boston.feature_names"
   ]
  },
  {
   "cell_type": "code",
   "execution_count": null,
   "id": "854727a6",
   "metadata": {},
   "outputs": [],
   "source": [
    "for feature in boston.feature_names:\n",
    "    plt.scatter(df[feature], df['Price'])\n",
    "    plt.xlabel(feature)\n",
    "    plt.ylabel(\"Price\")\n",
    "    plt.show()"
   ]
  },
  {
   "cell_type": "code",
   "execution_count": null,
   "id": "3a05ec7c",
   "metadata": {},
   "outputs": [],
   "source": [
    "for feature in boston.feature_names:\n",
    "    sns.regplot(x=feature,y='Price',data=df)\n",
    "    plt.xlabel(feature)\n",
    "    plt.ylabel(\"Price\")\n",
    "    plt.show()"
   ]
  },
  {
   "cell_type": "code",
   "execution_count": null,
   "id": "70de64d8",
   "metadata": {},
   "outputs": [],
   "source": [
    "for feature in boston.feature_names:\n",
    "    sns.boxplot(data=df, y=feature, color='y')\n",
    "    plt.title(feature)\n",
    "    plt.show()"
   ]
  },
  {
   "cell_type": "code",
   "execution_count": null,
   "id": "ea83ca1e",
   "metadata": {},
   "outputs": [],
   "source": [
    "df.head()"
   ]
  },
  {
   "cell_type": "code",
   "execution_count": null,
   "id": "0b29fed9",
   "metadata": {},
   "outputs": [],
   "source": [
    "##Independent and Dependent features\n",
    "X=df.iloc[:,:-1]\n",
    "Y=df.iloc[:,-1]"
   ]
  },
  {
   "cell_type": "code",
   "execution_count": null,
   "id": "2bd1e7f3",
   "metadata": {},
   "outputs": [],
   "source": [
    "X.shape"
   ]
  },
  {
   "cell_type": "code",
   "execution_count": null,
   "id": "95e0e5d1",
   "metadata": {},
   "outputs": [],
   "source": [
    "Y.shape"
   ]
  },
  {
   "cell_type": "code",
   "execution_count": null,
   "id": "126f8243",
   "metadata": {},
   "outputs": [],
   "source": [
    "from sklearn.model_selection import train_test_split"
   ]
  },
  {
   "cell_type": "code",
   "execution_count": null,
   "id": "808aa82f",
   "metadata": {},
   "outputs": [],
   "source": [
    "X_train, X_test, Y_train, Y_test = train_test_split(\n",
    "    X, Y, test_size=0.33, random_state=10)"
   ]
  },
  {
   "cell_type": "code",
   "execution_count": null,
   "id": "831e52d0",
   "metadata": {},
   "outputs": [],
   "source": [
    "X_train.head()"
   ]
  },
  {
   "cell_type": "code",
   "execution_count": null,
   "id": "87dbae7e",
   "metadata": {},
   "outputs": [],
   "source": [
    "#Standardize the datasets\n",
    "from sklearn.preprocessing import StandardScaler\n",
    "scaler=StandardScaler()"
   ]
  },
  {
   "cell_type": "code",
   "execution_count": null,
   "id": "4a2186c8",
   "metadata": {},
   "outputs": [],
   "source": [
    "scaler"
   ]
  },
  {
   "cell_type": "code",
   "execution_count": null,
   "id": "ca72ce5d",
   "metadata": {},
   "outputs": [],
   "source": [
    "X_train=scaler.fit_transform(X_train)"
   ]
  },
  {
   "cell_type": "code",
   "execution_count": null,
   "id": "0ecf8d98",
   "metadata": {},
   "outputs": [],
   "source": [
    "X_test=scaler.transform(X_test)"
   ]
  },
  {
   "cell_type": "code",
   "execution_count": null,
   "id": "671bac76",
   "metadata": {},
   "outputs": [],
   "source": [
    "X_train"
   ]
  },
  {
   "cell_type": "code",
   "execution_count": null,
   "id": "29fc6c71",
   "metadata": {},
   "outputs": [],
   "source": [
    "X_test"
   ]
  },
  {
   "cell_type": "code",
   "execution_count": null,
   "id": "fb91476a",
   "metadata": {},
   "outputs": [],
   "source": [
    "import pickle\n",
    "pickle.dump(scaler,open('scaling.pkl','wb'))"
   ]
  },
  {
   "cell_type": "markdown",
   "id": "345e16eb",
   "metadata": {},
   "source": [
    "# Model Training"
   ]
  },
  {
   "cell_type": "code",
   "execution_count": null,
   "id": "4cdc0581",
   "metadata": {},
   "outputs": [],
   "source": [
    "from sklearn.linear_model import LinearRegression"
   ]
  },
  {
   "cell_type": "code",
   "execution_count": null,
   "id": "999a35fd",
   "metadata": {},
   "outputs": [],
   "source": [
    "Linear_reg= LinearRegression()"
   ]
  },
  {
   "cell_type": "code",
   "execution_count": null,
   "id": "e744a102",
   "metadata": {},
   "outputs": [],
   "source": [
    "Linear_reg"
   ]
  },
  {
   "cell_type": "code",
   "execution_count": null,
   "id": "5f9b9c09",
   "metadata": {},
   "outputs": [],
   "source": [
    "Linear_reg.fit(X_train, Y_train)"
   ]
  },
  {
   "cell_type": "code",
   "execution_count": null,
   "id": "f8ab7425",
   "metadata": {},
   "outputs": [],
   "source": [
    "## Print the coefficicent and the intercept\n",
    "print(Linear_reg.coef_)"
   ]
  },
  {
   "cell_type": "code",
   "execution_count": null,
   "id": "6a35fded",
   "metadata": {},
   "outputs": [],
   "source": [
    "print(Linear_reg.intercept_)"
   ]
  },
  {
   "cell_type": "code",
   "execution_count": null,
   "id": "cc512694",
   "metadata": {},
   "outputs": [],
   "source": [
    "#on which parameter the model has been trained\n",
    "Linear_reg.get_params()"
   ]
  },
  {
   "cell_type": "code",
   "execution_count": null,
   "id": "9fe953f3",
   "metadata": {},
   "outputs": [],
   "source": [
    "#Prediction for test data\n",
    "Linear_reg_pred=Linear_reg.predict(X_test)"
   ]
  },
  {
   "cell_type": "code",
   "execution_count": null,
   "id": "1ec21174",
   "metadata": {},
   "outputs": [],
   "source": [
    "Linear_reg_pred"
   ]
  },
  {
   "cell_type": "code",
   "execution_count": null,
   "id": "f339c94a",
   "metadata": {},
   "outputs": [],
   "source": [
    "##Assumptions\n",
    "plt.scatter(Y_test,Linear_reg_pred)\n",
    "plt.xlabel(\"Test Truth Data\")\n",
    "plt.ylabel(\"Test Predicted Data\")"
   ]
  },
  {
   "cell_type": "code",
   "execution_count": null,
   "id": "792d9cf6",
   "metadata": {},
   "outputs": [],
   "source": [
    "##Residuals\n",
    "Linear_residuals=Y_test-Linear_reg_pred"
   ]
  },
  {
   "cell_type": "code",
   "execution_count": null,
   "id": "85a176e0",
   "metadata": {},
   "outputs": [],
   "source": [
    "Linear_residuals"
   ]
  },
  {
   "cell_type": "code",
   "execution_count": null,
   "id": "414cb655",
   "metadata": {},
   "outputs": [],
   "source": [
    "sns.displot(Linear_residuals, kind='kde')"
   ]
  },
  {
   "cell_type": "code",
   "execution_count": null,
   "id": "19fcbc88",
   "metadata": {},
   "outputs": [],
   "source": [
    "## Scatter plot with prediction and residuals\n",
    "# uniform distribution\n",
    "plt.scatter(x=Linear_reg_pred, y=Linear_residuals)\n",
    "plt.xlabel('Prediction')\n",
    "plt.ylabel('Residuals')"
   ]
  },
  {
   "cell_type": "code",
   "execution_count": null,
   "id": "0bbab0f7",
   "metadata": {},
   "outputs": [],
   "source": [
    "##Performaces matrices"
   ]
  },
  {
   "cell_type": "code",
   "execution_count": null,
   "id": "fd2ac698",
   "metadata": {},
   "outputs": [],
   "source": [
    "from sklearn.metrics import mean_squared_error\n",
    "from sklearn.metrics import mean_absolute_error\n",
    "print('MSE of the linear regression model is {}'.format(mean_squared_error(Y_test,Linear_reg_pred)))\n",
    "print('MAE of the linear regression model is {}'.format(mean_absolute_error(Y_test,Linear_reg_pred)))\n",
    "print('RMSE of the linear regression model is {}'.format(np.sqrt(mean_squared_error(Y_test, Linear_reg_pred))))"
   ]
  },
  {
   "cell_type": "code",
   "execution_count": null,
   "id": "ffc8131f",
   "metadata": {},
   "outputs": [],
   "source": [
    "#R squared and Adjusted R square"
   ]
  },
  {
   "cell_type": "code",
   "execution_count": null,
   "id": "c04bff99",
   "metadata": {},
   "outputs": [],
   "source": [
    "from sklearn.metrics import r2_score\n",
    "Linear_R2_square= r2_score(Y_test, Linear_reg_pred)\n",
    "print('Linear Regression model has {}% accuracy'.format(round(Linear_R2_square*100,3)))\n",
    "\n",
    "Linear_Adjusted_R2_square= 1 - (1-Linear_R2_square)*(len(Y_test)-1)/(len(Y_test)-X_test.shape[1]-1)\n",
    "print('Linear Adjusted R sqaure accuarcy is {}%'.format(round(Linear_Adjusted_R2_square*100,3)))"
   ]
  },
  {
   "cell_type": "markdown",
   "id": "c6d0adf7",
   "metadata": {},
   "source": [
    "# New data prediction"
   ]
  },
  {
   "cell_type": "code",
   "execution_count": null,
   "id": "50ebd1c1",
   "metadata": {},
   "outputs": [],
   "source": [
    "boston.data[0]"
   ]
  },
  {
   "cell_type": "code",
   "execution_count": null,
   "id": "2ab16fea",
   "metadata": {},
   "outputs": [],
   "source": [
    "#Reshaping the dataset\n",
    "boston.data[0].reshape(1,-1)"
   ]
  },
  {
   "cell_type": "code",
   "execution_count": null,
   "id": "cb0ae74b",
   "metadata": {},
   "outputs": [],
   "source": [
    "##Transforamtion of the dataset\n",
    "scaler.transform(boston.data[0].reshape(1,-1))"
   ]
  },
  {
   "cell_type": "code",
   "execution_count": null,
   "id": "c65bd834",
   "metadata": {},
   "outputs": [],
   "source": [
    "Linear_reg.predict((scaler.transform(boston.data[0].reshape(1,-1))))"
   ]
  },
  {
   "cell_type": "markdown",
   "id": "e1ad2718",
   "metadata": {},
   "source": [
    "# Pickling the model file deployment"
   ]
  },
  {
   "cell_type": "code",
   "execution_count": null,
   "id": "f797dd4b",
   "metadata": {},
   "outputs": [],
   "source": [
    "import pickle"
   ]
  },
  {
   "cell_type": "code",
   "execution_count": null,
   "id": "40a7bd25",
   "metadata": {},
   "outputs": [],
   "source": [
    "pickle.dump(Linear_reg, open(\"regmodel.pkl\",'wb'))"
   ]
  },
  {
   "cell_type": "code",
   "execution_count": null,
   "id": "02b0d0ae",
   "metadata": {},
   "outputs": [],
   "source": [
    "pickled_model = pickle.load(open('regmodel.pkl','rb'))"
   ]
  },
  {
   "cell_type": "code",
   "execution_count": null,
   "id": "01f907bd",
   "metadata": {},
   "outputs": [],
   "source": [
    "##Prediction\n",
    "pickled_model.predict((scaler.transform(boston.data[0].reshape(1,-1))))"
   ]
  },
  {
   "cell_type": "code",
   "execution_count": null,
   "id": "7321b3f8",
   "metadata": {},
   "outputs": [],
   "source": []
  },
  {
   "cell_type": "code",
   "execution_count": null,
   "id": "e5aa5b9f",
   "metadata": {},
   "outputs": [],
   "source": []
  },
  {
   "cell_type": "code",
   "execution_count": null,
   "id": "e42453a7",
   "metadata": {},
   "outputs": [],
   "source": []
  },
  {
   "cell_type": "code",
   "execution_count": null,
   "id": "c97b6787",
   "metadata": {},
   "outputs": [],
   "source": []
  },
  {
   "cell_type": "code",
   "execution_count": null,
   "id": "82001f43",
   "metadata": {},
   "outputs": [],
   "source": []
  },
  {
   "cell_type": "code",
   "execution_count": null,
   "id": "c027525a",
   "metadata": {},
   "outputs": [],
   "source": []
  }
 ],
 "metadata": {
  "kernelspec": {
   "display_name": "Python 3",
   "language": "python",
   "name": "python3"
  },
  "language_info": {
   "codemirror_mode": {
    "name": "ipython",
    "version": 3
   },
   "file_extension": ".py",
   "mimetype": "text/x-python",
   "name": "python",
   "nbconvert_exporter": "python",
   "pygments_lexer": "ipython3",
   "version": "3.7.0 (default, Jun 28 2018, 08:04:48) [MSC v.1912 64 bit (AMD64)]"
  },
  "vscode": {
   "interpreter": {
    "hash": "5a659d03945e83f4b4bc92f88e256008378447236f2d057de1d4526b47cf2519"
   }
  }
 },
 "nbformat": 4,
 "nbformat_minor": 5
}
